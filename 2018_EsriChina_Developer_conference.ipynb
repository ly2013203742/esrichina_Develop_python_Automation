{
 "cells": [
  {
   "cell_type": "markdown",
   "metadata": {
    "slideshow": {
     "slide_type": "slide"
    }
   },
   "source": [
    "## <center> 概述</center>\n",
    "\n",
    "#### 1.ArcGIS API for Python\n",
    "  * Portal 管理\n",
    "    - 创建用户\n",
    "    - 自定义角色\n",
    "    - 导入证书\n",
    "    - Portal日志的管理\n",
    "  * Server 管理\n",
    "    - 访问到server\n",
    "    - 管理 服务\n",
    "    - server日志管理\n",
    "    - 使用率的管理\n",
    "    \n",
    "#### 2.直接使用Python进行管理\n",
    "#### 3.现有工具以及学习资料分享"
   ]
  },
  {
   "cell_type": "markdown",
   "metadata": {
    "slideshow": {
     "slide_type": "slide"
    }
   },
   "source": [
    "<center><h2> What is the Python API for ArcGIS </h2></center>\n",
    "\n",
    "The ArcGIS API for Python lets ArcGIS Online and ArcGIS Enterprise users, analysts, developers and administrators script and automate tasks ranging from performing big data analysis to content management and administration of their web GIS.\n",
    "<img src=\"images/PythonAPIGettingStarted.png\" />"
   ]
  },
  {
   "cell_type": "markdown",
   "metadata": {
    "slideshow": {
     "slide_type": "slide"
    }
   },
   "source": [
    "<center> <h2> Who Uses the ArcGIS API for Python </h2> </center>\n",
    "\n",
    "<img src=\"images/WhatIsArcGISPython.PNG\"/>"
   ]
  },
  {
   "cell_type": "markdown",
   "metadata": {
    "slideshow": {
     "slide_type": "slide"
    }
   },
   "source": [
    "<center> <h2> 连接到 GIS</h2></center>\n",
    "\n",
    "- 这里所说的 GIS 是 ArcGIS Online 或者 ArcGIS Portal\n",
    "- 支持所有的认证方法"
   ]
  },
  {
   "cell_type": "markdown",
   "metadata": {
    "slideshow": {
     "slide_type": "notes"
    }
   },
   "source": [
    "支持所有的认证方式，包括最简单的匿名访问、用户名密码、LDAP、open auth 等 认证方式"
   ]
  },
  {
   "cell_type": "markdown",
   "metadata": {
    "slideshow": {
     "slide_type": "skip"
    }
   },
   "source": [
    "<h4> 访问到你的 GIS </h4>"
   ]
  },
  {
   "cell_type": "code",
   "execution_count": 1,
   "metadata": {
    "slideshow": {
     "slide_type": "fragment"
    }
   },
   "outputs": [
    {
     "name": "stdout",
     "output_type": "stream",
     "text": [
      "Enter password: ········\n"
     ]
    }
   ],
   "source": [
    "from arcgis.gis import GIS\n",
    "gis = GIS(url=\"https://liy.esrichina.com/portal\", \n",
    "          username=\"arcgis\",\n",
    "          verify_cert=False)"
   ]
  },
  {
   "cell_type": "markdown",
   "metadata": {
    "slideshow": {
     "slide_type": "skip"
    }
   },
   "source": [
    "<center>\n",
    "<h2><b>Portal 管理 </b> </h2>\n",
    "\n",
    "\n",
    "<img src=\"https://server.arcgis.com/en/data-store/10.4/install/windows/GUID-D6450E2F-31B2-42D4-8EBA-F1B0E3D5EEE4-web.png\" align=\"center\" /></center>"
   ]
  },
  {
   "cell_type": "markdown",
   "metadata": {
    "slideshow": {
     "slide_type": "slide"
    }
   },
   "source": [
    "<center>\n",
    "<h3 class=\"title\"><b>创建用户</b> </h3>\n",
    "</center>"
   ]
  },
  {
   "cell_type": "code",
   "execution_count": 2,
   "metadata": {
    "slideshow": {
     "slide_type": "fragment"
    }
   },
   "outputs": [
    {
     "data": {
      "text/html": [
       "<div class=\"9item_container\" style=\"height: auto; overflow: hidden; border: 1px solid #cfcfcf; border-radius: 2px; background: #f6fafa; line-height: 1.21429em; padding: 10px;\">\n",
       "                    <div class=\"item_left\" style=\"width: 210px; float: left;\">\n",
       "                       <a href='https://liy.esrichina.com/portal/home/user.html?user=demoaccount2a' target='_blank'>\n",
       "                        <img src='data:image/png;base64,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' width='200' height='133' class=\"itemThumbnail\">\n",
       "                       </a>\n",
       "                    </div>\n",
       "\n",
       "                    <div class=\"item_right\" style=\"float: none; width: auto; overflow: hidden;\">\n",
       "                        <a href='https://liy.esrichina.com/portal/home/user.html?user=demoaccount2a' target='_blank'><b>Demo Account2a</b>\n",
       "                        </a>\n",
       "                        <br/><br/><b>Bio</b>: None\n",
       "                        <br/><b>First Name</b>: Demo\n",
       "                        <br/><b>Last Name</b>: Account2a\n",
       "                        <br/><b>Username</b>: demoaccount2a\n",
       "                        <br/><b>Joined</b>: May 11, 2018\n",
       "\n",
       "                    </div>\n",
       "                </div>\n",
       "                "
      ],
      "text/plain": [
       "<User username:demoaccount2a>"
      ]
     },
     "execution_count": 2,
     "metadata": {},
     "output_type": "execute_result"
    }
   ],
   "source": [
    "user = gis.users.create(level=2,\n",
    "                        firstname=\"Demo\",\n",
    "                        lastname=\"Account2a\",\n",
    "                        username=\"demoaccount2a\",\n",
    "                        email=\"fake@esri.com\",\n",
    "                        thumbnail=\"images/delu.png\",\n",
    "                        password=\"Super123\")\n",
    "user"
   ]
  },
  {
   "cell_type": "code",
   "execution_count": 7,
   "metadata": {
    "slideshow": {
     "slide_type": "skip"
    }
   },
   "outputs": [
    {
     "data": {
      "text/plain": [
       "True"
      ]
     },
     "execution_count": 7,
     "metadata": {},
     "output_type": "execute_result"
    }
   ],
   "source": [
    "user.delete()"
   ]
  },
  {
   "cell_type": "markdown",
   "metadata": {
    "slideshow": {
     "slide_type": "slide"
    }
   },
   "source": [
    "<center>\n",
    "<h3 class=\"title\"><b>创建自定义角色</b> </h3>\n",
    "</center>"
   ]
  },
  {
   "cell_type": "code",
   "execution_count": 43,
   "metadata": {
    "slideshow": {
     "slide_type": "fragment"
    }
   },
   "outputs": [
    {
     "name": "stdout",
     "output_type": "stream",
     "text": [
      "[<Role name: Viewer, description: Viewer>]\n"
     ]
    }
   ],
   "source": [
    "roles = gis.users.roles\n",
    "print(roles.all())"
   ]
  },
  {
   "cell_type": "code",
   "execution_count": 12,
   "metadata": {
    "slideshow": {
     "slide_type": "fragment"
    }
   },
   "outputs": [],
   "source": [
    "privs = ['portal:publisher:publishFeatures','portal:user:createGroup','portal:user:viewOrgGroups', 'portal:user:createItem', \n",
    "         'portal:user:viewOrgItems', 'portal:user:shareGroupToOrg', 'portal:user:shareToPublic', 'portal:user:shareToOrg', \n",
    "         'portal:user:shareToGroup', 'portal:user:joinGroup', 'features:user:fullEdit', 'features:user:edit']\n",
    "customrole = roles.create('Devdemo2', 'DEV Demo Role 2018', privs)"
   ]
  },
  {
   "cell_type": "code",
   "execution_count": 13,
   "metadata": {
    "slideshow": {
     "slide_type": "fragment"
    }
   },
   "outputs": [
    {
     "data": {
      "text/plain": [
       "'sECXUWYP1GqkOPS0'"
      ]
     },
     "execution_count": 13,
     "metadata": {},
     "output_type": "execute_result"
    }
   ],
   "source": [
    "customrole.role_id"
   ]
  },
  {
   "cell_type": "code",
   "execution_count": 16,
   "metadata": {
    "slideshow": {
     "slide_type": "skip"
    }
   },
   "outputs": [
    {
     "name": "stdout",
     "output_type": "stream",
     "text": [
      "org_user\n",
      "sECXUWYP1GqkOPS0\n"
     ]
    }
   ],
   "source": [
    "demo = gis.users.get('demoaccount2a')\n",
    "print(demo.role)\n",
    "resp = demo.update_role(customrole)\n",
    "print(demo.role)"
   ]
  },
  {
   "cell_type": "markdown",
   "metadata": {
    "slideshow": {
     "slide_type": "slide"
    }
   },
   "source": [
    "<center>\n",
    "<h3 class=\"title\"><b>分配自定义角色</b> </h3>\n",
    "</center>"
   ]
  },
  {
   "cell_type": "code",
   "execution_count": 19,
   "metadata": {
    "slideshow": {
     "slide_type": "fragment"
    }
   },
   "outputs": [],
   "source": [
    "newbm = gis.users.create(username='devdemouser', password='devdemouser', firstname='Bill', lastname='Major',email='dev@esrichina.com', description='Bill Account for dev Level 1', role='org_viewer', level=1)"
   ]
  },
  {
   "cell_type": "code",
   "execution_count": 20,
   "metadata": {
    "slideshow": {
     "slide_type": "fragment"
    }
   },
   "outputs": [
    {
     "data": {
      "text/plain": [
       "True"
      ]
     },
     "execution_count": 20,
     "metadata": {},
     "output_type": "execute_result"
    }
   ],
   "source": [
    "newbm.update_role(customrole)"
   ]
  },
  {
   "cell_type": "code",
   "execution_count": 21,
   "metadata": {
    "slideshow": {
     "slide_type": "skip"
    }
   },
   "outputs": [
    {
     "data": {
      "text/plain": [
       "True"
      ]
     },
     "execution_count": 21,
     "metadata": {},
     "output_type": "execute_result"
    }
   ],
   "source": [
    "newbm.delete()\n",
    "#customrole.delete()"
   ]
  },
  {
   "cell_type": "markdown",
   "metadata": {
    "slideshow": {
     "slide_type": "slide"
    }
   },
   "source": [
    "<center>\n",
    "<h3 class=\"title\"><b>导入SSL证书</b> </h3>\n",
    "</center>\n",
    "\n",
    "- 导入之后需要重启portal"
   ]
  },
  {
   "cell_type": "code",
   "execution_count": 22,
   "metadata": {
    "slideshow": {
     "slide_type": "fragment"
    }
   },
   "outputs": [],
   "source": [
    "security = gis.admin.security"
   ]
  },
  {
   "cell_type": "code",
   "execution_count": null,
   "metadata": {
    "slideshow": {
     "slide_type": "fragment"
    }
   },
   "outputs": [],
   "source": [
    "v = security.ssl.import_certificate(alias=\"portal_cert\", \n",
    "                                    certificate=\"data/ESRIEnterpriseRoot.crt\")"
   ]
  },
  {
   "cell_type": "markdown",
   "metadata": {
    "slideshow": {
     "slide_type": "slide"
    }
   },
   "source": [
    "<center>\n",
    "<h3 class=\"title\"><b>Portal日志管理</b> </h3>\n",
    "</center>"
   ]
  },
  {
   "cell_type": "code",
   "execution_count": 23,
   "metadata": {
    "slideshow": {
     "slide_type": "skip"
    }
   },
   "outputs": [],
   "source": [
    "import datetime\n",
    "import os\n",
    "import pandas as pd\n",
    "start_time = datetime.datetime.now() - datetime.timedelta(days=20)"
   ]
  },
  {
   "cell_type": "code",
   "execution_count": 24,
   "metadata": {
    "slideshow": {
     "slide_type": "fragment"
    }
   },
   "outputs": [],
   "source": [
    "logs = gis.admin.logs\n",
    "res = logs.query(start_time)"
   ]
  },
  {
   "cell_type": "code",
   "execution_count": 25,
   "metadata": {
    "slideshow": {
     "slide_type": "slide"
    }
   },
   "outputs": [
    {
     "data": {
      "text/html": [
       "<div>\n",
       "<style scoped>\n",
       "    .dataframe tbody tr th:only-of-type {\n",
       "        vertical-align: middle;\n",
       "    }\n",
       "\n",
       "    .dataframe tbody tr th {\n",
       "        vertical-align: top;\n",
       "    }\n",
       "\n",
       "    .dataframe thead th {\n",
       "        text-align: right;\n",
       "    }\n",
       "</style>\n",
       "<table border=\"1\" class=\"dataframe\">\n",
       "  <thead>\n",
       "    <tr style=\"text-align: right;\">\n",
       "      <th></th>\n",
       "      <th>code</th>\n",
       "      <th>message</th>\n",
       "      <th>type</th>\n",
       "    </tr>\n",
       "  </thead>\n",
       "  <tbody>\n",
       "    <tr>\n",
       "      <th>0</th>\n",
       "      <td>219999</td>\n",
       "      <td>创建用户“bmajor_uc2”失败。该用户已存在。请检查用户名后重试。</td>\n",
       "      <td>WARNING</td>\n",
       "    </tr>\n",
       "    <tr>\n",
       "      <th>1</th>\n",
       "      <td>217064</td>\n",
       "      <td>发现 web 服务器已停止。正在重新启动。</td>\n",
       "      <td>WARNING</td>\n",
       "    </tr>\n",
       "    <tr>\n",
       "      <th>2</th>\n",
       "      <td>217060</td>\n",
       "      <td>发现数据库服务器已停止。正在重新启动。</td>\n",
       "      <td>WARNING</td>\n",
       "    </tr>\n",
       "    <tr>\n",
       "      <th>3</th>\n",
       "      <td>218015</td>\n",
       "      <td>已启动索引服务。</td>\n",
       "      <td>WARNING</td>\n",
       "    </tr>\n",
       "    <tr>\n",
       "      <th>4</th>\n",
       "      <td>218014</td>\n",
       "      <td>正在启动索引服务。</td>\n",
       "      <td>WARNING</td>\n",
       "    </tr>\n",
       "  </tbody>\n",
       "</table>\n",
       "</div>"
      ],
      "text/plain": [
       "     code                                message     type\n",
       "0  219999   创建用户“bmajor_uc2”失败。该用户已存在。请检查用户名后重试。  WARNING\n",
       "1  217064                  发现 web 服务器已停止。正在重新启动。  WARNING\n",
       "2  217060                    发现数据库服务器已停止。正在重新启动。  WARNING\n",
       "3  218015                               已启动索引服务。  WARNING\n",
       "4  218014                              正在启动索引服务。  WARNING"
      ]
     },
     "execution_count": 25,
     "metadata": {},
     "output_type": "execute_result"
    }
   ],
   "source": [
    "df = pd.DataFrame(res['logMessages'])\n",
    "df[['code', 'message', 'type']].head()"
   ]
  },
  {
   "cell_type": "markdown",
   "metadata": {
    "slideshow": {
     "slide_type": "slide"
    }
   },
   "source": [
    "<center>\n",
    "<h2 class=\"title\"><b>Server 管理</b> </h2>\n",
    "</center>"
   ]
  },
  {
   "cell_type": "markdown",
   "metadata": {
    "slideshow": {
     "slide_type": "notes"
    }
   },
   "source": [
    "在ArcGIS API for Python 1.2版本 引入了gis.admin模块，来管理ArcGIS servers，下面列出了所有的模块接口，其中包括托管联合、安全设置、站点管理等"
   ]
  },
  {
   "cell_type": "markdown",
   "metadata": {
    "slideshow": {
     "slide_type": "fragment"
    }
   },
   "source": [
    "<img src=\"http://esri.github.io/arcgis-python-api/notebooks/nbimages/guide_gis_admin_module_01.png\"></img>"
   ]
  },
  {
   "cell_type": "code",
   "execution_count": 1,
   "metadata": {
    "slideshow": {
     "slide_type": "skip"
    }
   },
   "outputs": [],
   "source": [
    "from arcgis.gis import GIS\n",
    "gis = GIS(url=\"https://liy.esrichina.com/portal\", \n",
    "          username=\"arcgis\",\n",
    "          password=\"Super123\",\n",
    "          verify_cert=False)"
   ]
  },
  {
   "cell_type": "markdown",
   "metadata": {
    "slideshow": {
     "slide_type": "slide"
    }
   },
   "source": [
    "<center>\n",
    "<h3 class=\"title\"><b>Server 状态</b> </h3>\n",
    "</center>\n",
    "\n",
    "- 确保GIS服务器的稳定和正常运行是管理员的日常任务\n",
    "- API提供了一种去查看每台机器正常运行的简单方式"
   ]
  },
  {
   "cell_type": "code",
   "execution_count": 3,
   "metadata": {
    "slideshow": {
     "slide_type": "fragment"
    }
   },
   "outputs": [],
   "source": [
    "servers=gis.admin.servers"
   ]
  },
  {
   "cell_type": "code",
   "execution_count": 10,
   "metadata": {
    "slideshow": {
     "slide_type": "fragment"
    }
   },
   "outputs": [
    {
     "data": {
      "text/plain": [
       "True"
      ]
     },
     "execution_count": 10,
     "metadata": {},
     "output_type": "execute_result"
    }
   ],
   "source": [
    "#Validate your servers验证servr\n",
    "servers.validate()"
   ]
  },
  {
   "cell_type": "markdown",
   "metadata": {
    "slideshow": {
     "slide_type": "slide"
    }
   },
   "source": [
    "<center>\n",
    "    <h3 class=\"title\"><b>获取联合服务器</b> </h3>\n",
    "</center>\n",
    "<br/>"
   ]
  },
  {
   "cell_type": "code",
   "execution_count": 3,
   "metadata": {
    "slideshow": {
     "slide_type": "fragment"
    }
   },
   "outputs": [
    {
     "data": {
      "text/plain": [
       "[<Server at https://liy.esrichina.com:6443/arcgis/admin>,\n",
       " <Server at https://sms.esrichina.com:6443/arcgis/admin>]"
      ]
     },
     "execution_count": 3,
     "metadata": {},
     "output_type": "execute_result"
    }
   ],
   "source": [
    "#获取联合或托管到portal的server\n",
    "gisserver = servers.list()\n",
    "gisserver"
   ]
  },
  {
   "cell_type": "markdown",
   "metadata": {
    "slideshow": {
     "slide_type": "slide"
    }
   },
   "source": [
    "<center>\n",
    "<h3 class=\"title\"><b>使用角色或者服务器功能去查找server</b> </h3>\n",
    "</center>\n",
    "\n",
    "- API提供了使用服务器功能或者用户角色去查找server的简单方式\n",
    "- 允许特定的服务器使用类型搜索"
   ]
  },
  {
   "cell_type": "code",
   "execution_count": 23,
   "metadata": {
    "slideshow": {
     "slide_type": "fragment"
    }
   },
   "outputs": [
    {
     "name": "stdout",
     "output_type": "stream",
     "text": [
      "[<Server at https://liy.esrichina.com:6443/arcgis/admin>]\n"
     ]
    }
   ],
   "source": [
    "analytics_server = servers.get(role=\"\", function=\"GeoAnalytics\")\n",
    "print(analytics_server)"
   ]
  },
  {
   "cell_type": "code",
   "execution_count": 4,
   "metadata": {
    "slideshow": {
     "slide_type": "fragment"
    }
   },
   "outputs": [
    {
     "data": {
      "text/plain": [
       "<Server at https://liy.esrichina.com:6443/arcgis/admin>"
      ]
     },
     "execution_count": 4,
     "metadata": {},
     "output_type": "execute_result"
    }
   ],
   "source": [
    "hosting_server = servers.get(role=\"HOSTING_SERVER\")[0]\n",
    "hosting_server"
   ]
  },
  {
   "cell_type": "markdown",
   "metadata": {
    "slideshow": {
     "slide_type": "slide"
    }
   },
   "source": [
    "<center>\n",
    "    <h3 class=\"title\"><b>管理server的数据存储</b> </h3>\n",
    "</center>"
   ]
  },
  {
   "cell_type": "code",
   "execution_count": 14,
   "metadata": {
    "slideshow": {
     "slide_type": "skip"
    }
   },
   "outputs": [
    {
     "data": {
      "text/plain": [
       "3"
      ]
     },
     "execution_count": 14,
     "metadata": {},
     "output_type": "execute_result"
    }
   ],
   "source": [
    "server=gisserver[0]\n",
    "dstores = server.datastores.list()\n",
    "len(dstores)"
   ]
  },
  {
   "cell_type": "code",
   "execution_count": 15,
   "metadata": {
    "slideshow": {
     "slide_type": "slide"
    }
   },
   "outputs": [
    {
     "name": "stdout",
     "output_type": "stream",
     "text": [
      "/enterpriseDatabases/AGSDataStore_ds_lnmjlh3g\n",
      "/fileShares/esridev_test\n",
      "/nosqlDatabases/AGSDataStore_nosqldb_tcs_6u7qzuxl\n"
     ]
    }
   ],
   "source": [
    "dstores = server.datastores.list()\n",
    "for dstore in dstores:\n",
    "    print(dstore.properties.path)"
   ]
  },
  {
   "cell_type": "code",
   "execution_count": 16,
   "metadata": {
    "slideshow": {
     "slide_type": "fragment"
    }
   },
   "outputs": [
    {
     "data": {
      "text/plain": [
       "<Datastore title:\"https://liy.esrichina.com:6443/arcgis/admin/data/items/fileShares/pytext\" type:\"folder\">"
      ]
     },
     "execution_count": 16,
     "metadata": {},
     "output_type": "execute_result"
    }
   ],
   "source": [
    "#注册文件夹\n",
    "ca_datastore = server.datastores.add_folder(name='pytext',server_path='\\\\\\\\192.168.100.139\\sms')\n",
    "ca_datastore"
   ]
  },
  {
   "cell_type": "code",
   "execution_count": 19,
   "metadata": {
    "slideshow": {
     "slide_type": "fragment"
    }
   },
   "outputs": [
    {
     "data": {
      "text/plain": [
       "True"
      ]
     },
     "execution_count": 19,
     "metadata": {},
     "output_type": "execute_result"
    }
   ],
   "source": [
    "#验证注册的文件夹\n",
    "ca_datastore.validate()"
   ]
  },
  {
   "cell_type": "markdown",
   "metadata": {
    "slideshow": {
     "slide_type": "slide"
    }
   },
   "source": [
    "<center>\n",
    "<h3 class=\"title\"><b>服务的管理</b> </h3>\n",
    "</center>\n",
    "\n",
    "\n",
    "- 侧重于服务的管理而不是使用"
   ]
  },
  {
   "cell_type": "code",
   "execution_count": 35,
   "metadata": {
    "slideshow": {
     "slide_type": "fragment"
    }
   },
   "outputs": [
    {
     "data": {
      "text/plain": [
       "<ServiceManager at https://liy.esrichina.com:6443/arcgis/admin/services>"
      ]
     },
     "execution_count": 35,
     "metadata": {},
     "output_type": "execute_result"
    }
   ],
   "source": [
    "services = hosting_server.services\n",
    "services"
   ]
  },
  {
   "cell_type": "markdown",
   "metadata": {
    "slideshow": {
     "slide_type": "slide"
    }
   },
   "source": [
    "<center>\n",
    "<h3 class=\"title\"><b>管理服务的文件夹</b> </h3>\n",
    "</center>"
   ]
  },
  {
   "cell_type": "code",
   "execution_count": 38,
   "metadata": {
    "slideshow": {
     "slide_type": "fragment"
    }
   },
   "outputs": [
    {
     "data": {
      "text/plain": [
       "True"
      ]
     },
     "execution_count": 38,
     "metadata": {},
     "output_type": "execute_result"
    }
   ],
   "source": [
    "#创建文件夹\n",
    "services.create_folder('python')"
   ]
  },
  {
   "cell_type": "code",
   "execution_count": 39,
   "metadata": {
    "slideshow": {
     "slide_type": "fragment"
    }
   },
   "outputs": [
    {
     "data": {
      "text/plain": [
       "True"
      ]
     },
     "execution_count": 39,
     "metadata": {},
     "output_type": "execute_result"
    }
   ],
   "source": [
    "#删除文件夹\n",
    "services.delete_folder('python')"
   ]
  },
  {
   "cell_type": "markdown",
   "metadata": {
    "slideshow": {
     "slide_type": "slide"
    }
   },
   "source": [
    "<center>\n",
    "<h3 class=\"title\"><b>管理服务</b> </h3>\n",
    "</center>"
   ]
  },
  {
   "cell_type": "code",
   "execution_count": 17,
   "metadata": {
    "slideshow": {
     "slide_type": "fragment"
    }
   },
   "outputs": [
    {
     "data": {
      "text/plain": [
       "{'configuredState': 'STARTED', 'realTimeState': 'STARTED'}"
      ]
     },
     "execution_count": 17,
     "metadata": {},
     "output_type": "execute_result"
    }
   ],
   "source": [
    "sampleworld = services.list()[-1]\n",
    "\n",
    "sampleworld.status"
   ]
  },
  {
   "cell_type": "code",
   "execution_count": 19,
   "metadata": {
    "slideshow": {
     "slide_type": "fragment"
    }
   },
   "outputs": [
    {
     "data": {
      "text/plain": [
       "{'configuredState': 'STOPPED', 'realTimeState': 'STOPPED'}"
      ]
     },
     "execution_count": 19,
     "metadata": {},
     "output_type": "execute_result"
    }
   ],
   "source": [
    "#停止service\n",
    "sampleworld.stop()\n",
    "sampleworld.status"
   ]
  },
  {
   "cell_type": "code",
   "execution_count": 20,
   "metadata": {
    "slideshow": {
     "slide_type": "fragment"
    }
   },
   "outputs": [
    {
     "data": {
      "text/plain": [
       "{'configuredState': 'STARTED', 'realTimeState': 'STARTED'}"
      ]
     },
     "execution_count": 20,
     "metadata": {},
     "output_type": "execute_result"
    }
   ],
   "source": [
    "#启动service\n",
    "sampleworld.start()\n",
    "sampleworld.status"
   ]
  },
  {
   "cell_type": "markdown",
   "metadata": {
    "slideshow": {
     "slide_type": "slide"
    }
   },
   "source": [
    "<center>\n",
    "<h3 class=\"title\"><b>server日志管理</b> </h3>\n",
    "</center>\n",
    "\n",
    "- 发现问题\n",
    "- 解决问题\n",
    "- 控制日志大小"
   ]
  },
  {
   "cell_type": "code",
   "execution_count": 34,
   "metadata": {
    "slideshow": {
     "slide_type": "fragment"
    }
   },
   "outputs": [
    {
     "data": {
      "text/plain": [
       "<LogManager at https://liy.esrichina.com:6443/arcgis/admin/logs>"
      ]
     },
     "execution_count": 34,
     "metadata": {},
     "output_type": "execute_result"
    }
   ],
   "source": [
    "logs = hosting_server.logs"
   ]
  },
  {
   "cell_type": "code",
   "execution_count": 9,
   "metadata": {
    "slideshow": {
     "slide_type": "skip"
    }
   },
   "outputs": [],
   "source": [
    "import datetime\n",
    "import pandas as pd\n",
    "now = datetime.datetime.now()\n",
    "start_time = now - datetime.timedelta(days=40)"
   ]
  },
  {
   "cell_type": "markdown",
   "metadata": {
    "slideshow": {
     "slide_type": "slide"
    }
   },
   "source": [
    "<center>\n",
    "<h3 class=\"title\"><b>server日志可视化</b> </h3>\n",
    "</center>"
   ]
  },
  {
   "cell_type": "code",
   "execution_count": 55,
   "metadata": {
    "slideshow": {
     "slide_type": "fragment"
    }
   },
   "outputs": [
    {
     "data": {
      "text/html": [
       "<div>\n",
       "<style scoped>\n",
       "    .dataframe tbody tr th:only-of-type {\n",
       "        vertical-align: middle;\n",
       "    }\n",
       "\n",
       "    .dataframe tbody tr th {\n",
       "        vertical-align: top;\n",
       "    }\n",
       "\n",
       "    .dataframe thead th {\n",
       "        text-align: right;\n",
       "    }\n",
       "</style>\n",
       "<table border=\"1\" class=\"dataframe\">\n",
       "  <thead>\n",
       "    <tr style=\"text-align: right;\">\n",
       "      <th></th>\n",
       "      <th>code</th>\n",
       "      <th>machine</th>\n",
       "      <th>message</th>\n",
       "    </tr>\n",
       "  </thead>\n",
       "  <tbody>\n",
       "    <tr>\n",
       "      <th>0</th>\n",
       "      <td>6602</td>\n",
       "      <td>LIY.ESRICHINA.COM</td>\n",
       "      <td>Failed to return the service configuration 'Ut...</td>\n",
       "    </tr>\n",
       "    <tr>\n",
       "      <th>1</th>\n",
       "      <td>7551</td>\n",
       "      <td>LIY.ESRICHINA.COM</td>\n",
       "      <td>Instance of the service 'System/PublishingTool...</td>\n",
       "    </tr>\n",
       "    <tr>\n",
       "      <th>2</th>\n",
       "      <td>7551</td>\n",
       "      <td>LIY.ESRICHINA.COM</td>\n",
       "      <td>Instance of the service 'System/PublishingTool...</td>\n",
       "    </tr>\n",
       "    <tr>\n",
       "      <th>3</th>\n",
       "      <td>7551</td>\n",
       "      <td>LIY.ESRICHINA.COM</td>\n",
       "      <td>Instance of the service 'Utilities/PrintingToo...</td>\n",
       "    </tr>\n",
       "    <tr>\n",
       "      <th>4</th>\n",
       "      <td>6602</td>\n",
       "      <td>LIY.ESRICHINA.COM</td>\n",
       "      <td>Failed to return the service configuration 'Ut...</td>\n",
       "    </tr>\n",
       "  </tbody>\n",
       "</table>\n",
       "</div>"
      ],
      "text/plain": [
       "   code            machine                                            message\n",
       "0  6602  LIY.ESRICHINA.COM  Failed to return the service configuration 'Ut...\n",
       "1  7551  LIY.ESRICHINA.COM  Instance of the service 'System/PublishingTool...\n",
       "2  7551  LIY.ESRICHINA.COM  Instance of the service 'System/PublishingTool...\n",
       "3  7551  LIY.ESRICHINA.COM  Instance of the service 'Utilities/PrintingToo...\n",
       "4  6602  LIY.ESRICHINA.COM  Failed to return the service configuration 'Ut..."
      ]
     },
     "execution_count": 55,
     "metadata": {},
     "output_type": "execute_result"
    }
   ],
   "source": [
    "res = hosting_server.logs.query(start_time = start_time, end_time = now, level = 'WARNING')['logMessages']\n",
    "df = pd.DataFrame.from_records(res)\n",
    "df[['code', 'machine', 'message']].head()"
   ]
  },
  {
   "cell_type": "code",
   "execution_count": 53,
   "metadata": {
    "slideshow": {
     "slide_type": "skip"
    }
   },
   "outputs": [
    {
     "data": {
      "text/plain": [
       "{'hasMore': False,\n",
       " 'startTime': 1524627390795,\n",
       " 'endTime': 1524188319761,\n",
       " 'logMessages': [{'type': 'SEVERE',\n",
       "   'message': \"Failed to return the service configuration 'Utilities/PrintingTools.GPServer'. Server machine 'https://LIY.ESRICHINA.COM:7443/arcgis/sharing/rest/content/items/b50adc00c866420ca526b0868f382ca9' returned an error. 'Item does not exist or is inaccessible.'\",\n",
       "   'time': 1524627390795,\n",
       "   'source': 'Admin',\n",
       "   'machine': 'LIY.ESRICHINA.COM',\n",
       "   'user': '',\n",
       "   'code': 6602,\n",
       "   'elapsed': '',\n",
       "   'process': '7856',\n",
       "   'thread': '17',\n",
       "   'methodName': ''},\n",
       "  {'type': 'SEVERE',\n",
       "   'message': \"Instance of the service 'System/PublishingToolsEx.GPServer' crashed. Please see if an error report was generated in 'E:\\\\arcgisdata\\\\arcgisserver\\\\logs\\\\LIY.ESRICHINA.COM\\\\errorreports'. To send an error report to Esri, compose an e-mail to ArcGISErrorReport@esri.com and attach the error report file.\",\n",
       "   'time': 1524626748080,\n",
       "   'source': 'Server',\n",
       "   'machine': 'LIY.ESRICHINA.COM',\n",
       "   'user': '',\n",
       "   'code': 7551,\n",
       "   'elapsed': '',\n",
       "   'process': '7856',\n",
       "   'thread': '19',\n",
       "   'methodName': ''},\n",
       "  {'type': 'SEVERE',\n",
       "   'message': \"Instance of the service 'System/PublishingToolsEx.GPServer' crashed. Please see if an error report was generated in 'E:\\\\arcgisdata\\\\arcgisserver\\\\logs\\\\LIY.ESRICHINA.COM\\\\errorreports'. To send an error report to Esri, compose an e-mail to ArcGISErrorReport@esri.com and attach the error report file.\",\n",
       "   'time': 1524626742143,\n",
       "   'source': 'Server',\n",
       "   'machine': 'LIY.ESRICHINA.COM',\n",
       "   'user': '',\n",
       "   'code': 7551,\n",
       "   'elapsed': '',\n",
       "   'process': '7856',\n",
       "   'thread': '19',\n",
       "   'methodName': ''},\n",
       "  {'type': 'SEVERE',\n",
       "   'message': \"Instance of the service 'Utilities/PrintingTools.GPServer' crashed. Please see if an error report was generated in 'E:\\\\arcgisdata\\\\arcgisserver\\\\logs\\\\LIY.ESRICHINA.COM\\\\errorreports'. To send an error report to Esri, compose an e-mail to ArcGISErrorReport@esri.com and attach the error report file.\",\n",
       "   'time': 1524626739293,\n",
       "   'source': 'Server',\n",
       "   'machine': 'LIY.ESRICHINA.COM',\n",
       "   'user': '',\n",
       "   'code': 7551,\n",
       "   'elapsed': '',\n",
       "   'process': '7856',\n",
       "   'thread': '19',\n",
       "   'methodName': ''},\n",
       "  {'type': 'SEVERE',\n",
       "   'message': \"Failed to return the service configuration 'Utilities/PrintingTools.GPServer'. Server machine 'https://LIY.ESRICHINA.COM:7443/arcgis/sharing/rest/content/items/b50adc00c866420ca526b0868f382ca9' returned an error. 'Item does not exist or is inaccessible.'\",\n",
       "   'time': 1524626737754,\n",
       "   'source': 'Admin',\n",
       "   'machine': 'LIY.ESRICHINA.COM',\n",
       "   'user': '',\n",
       "   'code': 6602,\n",
       "   'elapsed': '',\n",
       "   'process': '7856',\n",
       "   'thread': '17',\n",
       "   'methodName': ''},\n",
       "  {'type': 'SEVERE',\n",
       "   'message': \"Failed to construct instance of service 'esridev/esridev_feature.MapServer'.  No Layer or Table was initialized.\",\n",
       "   'time': 1524561509651,\n",
       "   'source': 'Server',\n",
       "   'machine': 'LIY.ESRICHINA.COM',\n",
       "   'user': '',\n",
       "   'code': 7570,\n",
       "   'elapsed': '',\n",
       "   'process': '7856',\n",
       "   'thread': '19',\n",
       "   'methodName': ''},\n",
       "  {'type': 'SEVERE',\n",
       "   'message': \"Failed to initialize server object 'esridev/esridev_feature': 0x80040067: No Layer or Table was initialized. \",\n",
       "   'time': 1524561509629,\n",
       "   'source': 'esridev/esridev_feature.MapServer',\n",
       "   'machine': 'LIY.ESRICHINA.COM',\n",
       "   'user': '',\n",
       "   'code': 8003,\n",
       "   'elapsed': '',\n",
       "   'process': '17640',\n",
       "   'thread': '21',\n",
       "   'methodName': ''},\n",
       "  {'type': 'SEVERE',\n",
       "   'message': 'Initialization failed.',\n",
       "   'time': 1524561509622,\n",
       "   'source': 'esridev/esridev_feature.MapServer',\n",
       "   'machine': 'LIY.ESRICHINA.COM',\n",
       "   'user': '',\n",
       "   'code': 17000,\n",
       "   'elapsed': '',\n",
       "   'process': '17640',\n",
       "   'thread': '17300',\n",
       "   'methodName': 'GraphicFeatureServer::Connect'},\n",
       "  {'type': 'WARNING',\n",
       "   'message': 'The Layer:\\'国界4p\\' in Map:\\'Layers\\' is invalid. The base table definition string \"db_ez0i0.hsu_1ups1.国界4p\" is invalid.  Instance not available on server.',\n",
       "   'time': 1524561509541,\n",
       "   'source': 'esridev/esridev_feature.MapServer',\n",
       "   'machine': 'LIY.ESRICHINA.COM',\n",
       "   'user': '',\n",
       "   'code': 10801,\n",
       "   'elapsed': '',\n",
       "   'process': '17640',\n",
       "   'thread': '17300',\n",
       "   'methodName': 'MapServer.Connect'},\n",
       "  {'type': 'SEVERE',\n",
       "   'message': 'Error executing tool. Export Web Map Task : Failed to create layer from service at https://sms.esrichina.com/server/rest/services/feature/县级居民地point/FeatureServer/0.\\r\\nFailed to execute (Export Web Map).\\r\\nFailed to execute (Export Web Map Task).',\n",
       "   'time': 1524561263784,\n",
       "   'source': 'Utilities/PrintingTools.GPServer',\n",
       "   'machine': 'LIY.ESRICHINA.COM',\n",
       "   'user': 'arcgis',\n",
       "   'code': 20010,\n",
       "   'elapsed': '',\n",
       "   'process': '21652',\n",
       "   'thread': '18688',\n",
       "   'methodName': 'GPServerSync.CheckMessages'},\n",
       "  {'type': 'SEVERE',\n",
       "   'message': \"Failed to return the service configuration 'Utilities/PrintingTools.GPServer'. Server machine 'https://LIY.ESRICHINA.COM:7443/arcgis/sharing/rest/content/items/b50adc00c866420ca526b0868f382ca9' returned an error. 'Item does not exist or is inaccessible.'\",\n",
       "   'time': 1524561260908,\n",
       "   'source': 'Admin',\n",
       "   'machine': 'LIY.ESRICHINA.COM',\n",
       "   'user': '',\n",
       "   'code': 6602,\n",
       "   'elapsed': '',\n",
       "   'process': '7260',\n",
       "   'thread': '17',\n",
       "   'methodName': ''},\n",
       "  {'type': 'SEVERE',\n",
       "   'message': 'Error executing tool. Export Web Map Task : Failed to create layer from service at https://sms.esrichina.com/server/rest/services/feature/县级居民地point/FeatureServer/0.\\r\\nFailed to execute (Export Web Map).\\r\\nFailed to execute (Export Web Map Task).',\n",
       "   'time': 1524561252237,\n",
       "   'source': 'Utilities/PrintingTools.GPServer',\n",
       "   'machine': 'LIY.ESRICHINA.COM',\n",
       "   'user': 'arcgis',\n",
       "   'code': 20010,\n",
       "   'elapsed': '',\n",
       "   'process': '21652',\n",
       "   'thread': '18688',\n",
       "   'methodName': 'GPServerSync.CheckMessages'},\n",
       "  {'type': 'SEVERE',\n",
       "   'message': \"Instance of the service 'Utilities/PrintingTools.GPServer' crashed. Please see if an error report was generated in 'E:\\\\arcgisdata\\\\arcgisserver\\\\logs\\\\LIY.ESRICHINA.COM\\\\errorreports'. To send an error report to Esri, compose an e-mail to ArcGISErrorReport@esri.com and attach the error report file.\",\n",
       "   'time': 1524561239137,\n",
       "   'source': 'Server',\n",
       "   'machine': 'LIY.ESRICHINA.COM',\n",
       "   'user': '',\n",
       "   'code': 7551,\n",
       "   'elapsed': '',\n",
       "   'process': '7260',\n",
       "   'thread': '49',\n",
       "   'methodName': ''},\n",
       "  {'type': 'SEVERE',\n",
       "   'message': \"Instance of the service 'Utilities/PrintingTools.GPServer' crashed. Please see if an error report was generated in 'E:\\\\arcgisdata\\\\arcgisserver\\\\logs\\\\LIY.ESRICHINA.COM\\\\errorreports'. To send an error report to Esri, compose an e-mail to ArcGISErrorReport@esri.com and attach the error report file.\",\n",
       "   'time': 1524561233331,\n",
       "   'source': 'Server',\n",
       "   'machine': 'LIY.ESRICHINA.COM',\n",
       "   'user': '',\n",
       "   'code': 7551,\n",
       "   'elapsed': '',\n",
       "   'process': '7260',\n",
       "   'thread': '49',\n",
       "   'methodName': ''},\n",
       "  {'type': 'SEVERE',\n",
       "   'message': \"Failed to return the service configuration 'Utilities/PrintingTools.GPServer'. Server machine 'https://LIY.ESRICHINA.COM:7443/arcgis/sharing/rest/content/items/b50adc00c866420ca526b0868f382ca9' returned an error. 'Item does not exist or is inaccessible.'\",\n",
       "   'time': 1524561231791,\n",
       "   'source': 'Admin',\n",
       "   'machine': 'LIY.ESRICHINA.COM',\n",
       "   'user': '',\n",
       "   'code': 6602,\n",
       "   'elapsed': '',\n",
       "   'process': '7260',\n",
       "   'thread': '17',\n",
       "   'methodName': ''},\n",
       "  {'type': 'WARNING',\n",
       "   'message': 'Result limit: 300 reached; ignoring any remaining objects in the query result for Layer: 国界4p.',\n",
       "   'time': 1524561102550,\n",
       "   'source': 'esridev/esridev_feature.MapServer',\n",
       "   'machine': 'LIY.ESRICHINA.COM',\n",
       "   'user': 'arcgis',\n",
       "   'code': 17001,\n",
       "   'elapsed': '',\n",
       "   'process': '20208',\n",
       "   'thread': '8104',\n",
       "   'methodName': 'JSONSerializerGFS::WriteInnerJSONFromCursor'},\n",
       "  {'type': 'WARNING',\n",
       "   'message': 'Result limit: 300 reached; ignoring any remaining objects in the query result for Layer: 国界4p.',\n",
       "   'time': 1524561101439,\n",
       "   'source': 'esridev/esridev_feature.MapServer',\n",
       "   'machine': 'LIY.ESRICHINA.COM',\n",
       "   'user': 'arcgis',\n",
       "   'code': 17001,\n",
       "   'elapsed': '',\n",
       "   'process': '20208',\n",
       "   'thread': '8104',\n",
       "   'methodName': 'JSONSerializerGFS::WriteInnerJSONFromCursor'},\n",
       "  {'type': 'SEVERE',\n",
       "   'message': \"Error performing query operation Error handling service request :Processing request took longer than the usage timeout for service '{0}'.\",\n",
       "   'time': 1524560620747,\n",
       "   'source': 'Rest',\n",
       "   'machine': 'LIY.ESRICHINA.COM',\n",
       "   'user': '',\n",
       "   'code': 9000,\n",
       "   'elapsed': '',\n",
       "   'process': '7260',\n",
       "   'thread': '17',\n",
       "   'methodName': ''},\n",
       "  {'type': 'WARNING',\n",
       "   'message': 'Result limit: 300 reached; ignoring any remaining objects in the query result for Layer: 国界4p.',\n",
       "   'time': 1524560029352,\n",
       "   'source': 'esridev/esridev_feature.MapServer',\n",
       "   'machine': 'LIY.ESRICHINA.COM',\n",
       "   'user': 'arcgis',\n",
       "   'code': 17001,\n",
       "   'elapsed': '',\n",
       "   'process': '20208',\n",
       "   'thread': '8104',\n",
       "   'methodName': 'JSONSerializerGFS::WriteInnerJSONFromCursor'},\n",
       "  {'type': 'WARNING',\n",
       "   'message': 'Result limit: 300 reached; ignoring any remaining objects in the query result for Layer: 国界4p.',\n",
       "   'time': 1524560027972,\n",
       "   'source': 'esridev/esridev_feature.MapServer',\n",
       "   'machine': 'LIY.ESRICHINA.COM',\n",
       "   'user': 'arcgis',\n",
       "   'code': 17001,\n",
       "   'elapsed': '',\n",
       "   'process': '20208',\n",
       "   'thread': '8104',\n",
       "   'methodName': 'JSONSerializerGFS::WriteInnerJSONFromCursor'},\n",
       "  {'type': 'SEVERE',\n",
       "   'message': \"Could not initialize service 'esridev.esridev_feature.MapServer'.\",\n",
       "   'time': 1524559961515,\n",
       "   'source': 'Server',\n",
       "   'machine': 'LIY.ESRICHINA.COM',\n",
       "   'user': '',\n",
       "   'code': 7598,\n",
       "   'elapsed': '',\n",
       "   'process': '7260',\n",
       "   'thread': '49',\n",
       "   'methodName': ''},\n",
       "  {'type': 'SEVERE',\n",
       "   'message': \"Instance of the service 'System/PublishingToolsEx.GPServer' crashed. Please see if an error report was generated in 'E:\\\\arcgisdata\\\\arcgisserver\\\\logs\\\\LIY.ESRICHINA.COM\\\\errorreports'. To send an error report to Esri, compose an e-mail to ArcGISErrorReport@esri.com and attach the error report file.\",\n",
       "   'time': 1524546935787,\n",
       "   'source': 'Server',\n",
       "   'machine': 'LIY.ESRICHINA.COM',\n",
       "   'user': '',\n",
       "   'code': 7551,\n",
       "   'elapsed': '',\n",
       "   'process': '7260',\n",
       "   'thread': '49',\n",
       "   'methodName': ''},\n",
       "  {'type': 'SEVERE',\n",
       "   'message': \"Instance of the service 'System/PublishingToolsEx.GPServer' crashed. Please see if an error report was generated in 'E:\\\\arcgisdata\\\\arcgisserver\\\\logs\\\\LIY.ESRICHINA.COM\\\\errorreports'. To send an error report to Esri, compose an e-mail to ArcGISErrorReport@esri.com and attach the error report file.\",\n",
       "   'time': 1524546929548,\n",
       "   'source': 'Server',\n",
       "   'machine': 'LIY.ESRICHINA.COM',\n",
       "   'user': '',\n",
       "   'code': 7551,\n",
       "   'elapsed': '',\n",
       "   'process': '7260',\n",
       "   'thread': '49',\n",
       "   'methodName': ''},\n",
       "  {'type': 'SEVERE',\n",
       "   'message': \"Instance of the service 'System/PublishingTools.GPServer' crashed. Please see if an error report was generated in 'E:\\\\arcgisdata\\\\arcgisserver\\\\logs\\\\LIY.ESRICHINA.COM\\\\errorreports'. To send an error report to Esri, compose an e-mail to ArcGISErrorReport@esri.com and attach the error report file.\",\n",
       "   'time': 1524546922824,\n",
       "   'source': 'Server',\n",
       "   'machine': 'LIY.ESRICHINA.COM',\n",
       "   'user': '',\n",
       "   'code': 7551,\n",
       "   'elapsed': '',\n",
       "   'process': '7260',\n",
       "   'thread': '49',\n",
       "   'methodName': ''},\n",
       "  {'type': 'SEVERE',\n",
       "   'message': \"Instance of the service 'System/PublishingTools.GPServer' crashed. Please see if an error report was generated in 'E:\\\\arcgisdata\\\\arcgisserver\\\\logs\\\\LIY.ESRICHINA.COM\\\\errorreports'. To send an error report to Esri, compose an e-mail to ArcGISErrorReport@esri.com and attach the error report file.\",\n",
       "   'time': 1524546917272,\n",
       "   'source': 'Server',\n",
       "   'machine': 'LIY.ESRICHINA.COM',\n",
       "   'user': '',\n",
       "   'code': 7551,\n",
       "   'elapsed': '',\n",
       "   'process': '7260',\n",
       "   'thread': '49',\n",
       "   'methodName': ''},\n",
       "  {'type': 'SEVERE',\n",
       "   'message': \"Instance of the service 'System/PublishingTools.GPServer' crashed. Please see if an error report was generated in 'E:\\\\arcgisdata\\\\arcgisserver\\\\logs\\\\LIY.ESRICHINA.COM\\\\errorreports'. To send an error report to Esri, compose an e-mail to ArcGISErrorReport@esri.com and attach the error report file.\",\n",
       "   'time': 1524475345229,\n",
       "   'source': 'Server',\n",
       "   'machine': 'LIY.ESRICHINA.COM',\n",
       "   'user': '',\n",
       "   'code': 7551,\n",
       "   'elapsed': '',\n",
       "   'process': '7260',\n",
       "   'thread': '49',\n",
       "   'methodName': ''},\n",
       "  {'type': 'SEVERE',\n",
       "   'message': \"Instance of the service 'System/PublishingTools.GPServer' crashed. Please see if an error report was generated in 'E:\\\\arcgisdata\\\\arcgisserver\\\\logs\\\\LIY.ESRICHINA.COM\\\\errorreports'. To send an error report to Esri, compose an e-mail to ArcGISErrorReport@esri.com and attach the error report file.\",\n",
       "   'time': 1524475339931,\n",
       "   'source': 'Server',\n",
       "   'machine': 'LIY.ESRICHINA.COM',\n",
       "   'user': '',\n",
       "   'code': 7551,\n",
       "   'elapsed': '',\n",
       "   'process': '7260',\n",
       "   'thread': '49',\n",
       "   'methodName': ''},\n",
       "  {'type': 'SEVERE',\n",
       "   'message': '\\r\\n\\tThe connection property set was missing a required property or the property value was unrecognized.\\r\\n\\tInstance not available on server',\n",
       "   'time': 1524466502011,\n",
       "   'source': 'DataValidator.GPServer',\n",
       "   'machine': 'LIY.ESRICHINA.COM',\n",
       "   'user': '',\n",
       "   'code': -1,\n",
       "   'elapsed': '',\n",
       "   'process': '8508',\n",
       "   'thread': '17360',\n",
       "   'methodName': 'ValidateServerDataStore.Execute'},\n",
       "  {'type': 'SEVERE',\n",
       "   'message': '\\r\\n\\tThe connection property set was missing a required property or the property value was unrecognized.\\r\\n\\tInstance not available on server',\n",
       "   'time': 1524465269662,\n",
       "   'source': 'DataValidator.GPServer',\n",
       "   'machine': 'LIY.ESRICHINA.COM',\n",
       "   'user': '',\n",
       "   'code': -1,\n",
       "   'elapsed': '',\n",
       "   'process': '18548',\n",
       "   'thread': '10932',\n",
       "   'methodName': 'ValidateServerDataStore.Execute'},\n",
       "  {'type': 'SEVERE',\n",
       "   'message': '\\r\\n\\tThe connection property set was missing a required property or the property value was unrecognized.\\r\\n\\tInstance not available on server',\n",
       "   'time': 1524465265851,\n",
       "   'source': 'DataValidator.GPServer',\n",
       "   'machine': 'LIY.ESRICHINA.COM',\n",
       "   'user': '',\n",
       "   'code': -1,\n",
       "   'elapsed': '',\n",
       "   'process': '13416',\n",
       "   'thread': '10176',\n",
       "   'methodName': 'ValidateServerDataStore.Execute'},\n",
       "  {'type': 'SEVERE',\n",
       "   'message': '\\r\\n\\tThe connection property set was missing a required property or the property value was unrecognized.\\r\\n\\tInstance not available on server',\n",
       "   'time': 1524465141864,\n",
       "   'source': 'DataValidator.GPServer',\n",
       "   'machine': 'LIY.ESRICHINA.COM',\n",
       "   'user': '',\n",
       "   'code': -1,\n",
       "   'elapsed': '',\n",
       "   'process': '10764',\n",
       "   'thread': '13200',\n",
       "   'methodName': 'ValidateServerDataStore.Execute'},\n",
       "  {'type': 'SEVERE',\n",
       "   'message': '\\r\\n\\tThe connection property set was missing a required property or the property value was unrecognized.\\r\\n\\tInstance not available on server',\n",
       "   'time': 1524465063180,\n",
       "   'source': 'DataValidator.GPServer',\n",
       "   'machine': 'LIY.ESRICHINA.COM',\n",
       "   'user': '',\n",
       "   'code': -1,\n",
       "   'elapsed': '',\n",
       "   'process': '6476',\n",
       "   'thread': '18616',\n",
       "   'methodName': 'ValidateServerDataStore.Execute'},\n",
       "  {'type': 'SEVERE',\n",
       "   'message': \"Instance of the service 'System/PublishingToolsEx.GPServer' crashed. Please see if an error report was generated in 'E:\\\\arcgisdata\\\\arcgisserver\\\\logs\\\\LIY.ESRICHINA.COM\\\\errorreports'. To send an error report to Esri, compose an e-mail to ArcGISErrorReport@esri.com and attach the error report file.\",\n",
       "   'time': 1524464849350,\n",
       "   'source': 'Server',\n",
       "   'machine': 'LIY.ESRICHINA.COM',\n",
       "   'user': '',\n",
       "   'code': 7551,\n",
       "   'elapsed': '',\n",
       "   'process': '7260',\n",
       "   'thread': '49',\n",
       "   'methodName': ''},\n",
       "  {'type': 'SEVERE',\n",
       "   'message': \"Instance of the service 'System/PublishingToolsEx.GPServer' crashed. Please see if an error report was generated in 'E:\\\\arcgisdata\\\\arcgisserver\\\\logs\\\\LIY.ESRICHINA.COM\\\\errorreports'. To send an error report to Esri, compose an e-mail to ArcGISErrorReport@esri.com and attach the error report file.\",\n",
       "   'time': 1524464842794,\n",
       "   'source': 'Server',\n",
       "   'machine': 'LIY.ESRICHINA.COM',\n",
       "   'user': '',\n",
       "   'code': 7551,\n",
       "   'elapsed': '',\n",
       "   'process': '7260',\n",
       "   'thread': '49',\n",
       "   'methodName': ''},\n",
       "  {'type': 'SEVERE',\n",
       "   'message': \"Instance of the service 'Utilities/PrintingTools.GPServer' crashed. Please see if an error report was generated in 'E:\\\\arcgisdata\\\\arcgisserver\\\\logs\\\\LIY.ESRICHINA.COM\\\\errorreports'. To send an error report to Esri, compose an e-mail to ArcGISErrorReport@esri.com and attach the error report file.\",\n",
       "   'time': 1524188319761,\n",
       "   'source': 'Server',\n",
       "   'machine': 'LIY.ESRICHINA.COM',\n",
       "   'user': '',\n",
       "   'code': 7551,\n",
       "   'elapsed': '',\n",
       "   'process': '7260',\n",
       "   'thread': '49',\n",
       "   'methodName': ''}]}"
      ]
     },
     "execution_count": 53,
     "metadata": {},
     "output_type": "execute_result"
    }
   ],
   "source": [
    "res1 = hosting_server.logs.query(start_time = start_time, end_time=now, level='WARNING') # get all messages\n",
    "res1"
   ]
  },
  {
   "cell_type": "markdown",
   "metadata": {
    "slideshow": {
     "slide_type": "slide"
    }
   },
   "source": [
    "<center>\n",
    "<h3 class=\"title\"><b>监控server的使用</b> </h3>\n",
    "</center>\n",
    "\n",
    "ArcGIS Server记录各种服务统计信息，例如总请求数，平均响应时间和超时。管理员和发布者可以使用此信息来监视服务活动，以更好地了解客户端如何使用服务。\n"
   ]
  },
  {
   "cell_type": "markdown",
   "metadata": {
    "slideshow": {
     "slide_type": "fragment"
    }
   },
   "source": [
    "1.过去一周内，我的ArcGIS Server网站处理的请求总数是多少？<br/>\n",
    "2.在过去一个月内如何分配服务请求负载？<br/>\n",
    "3.在特定服务的特定时间使用的服务实例的最大数量是多少？"
   ]
  },
  {
   "cell_type": "markdown",
   "metadata": {
    "slideshow": {
     "slide_type": "slide"
    }
   },
   "source": [
    "<center>\n",
    "<h3 class=\"title\"><b>使用server的内置报告</b> </h3>\n",
    "</center>\n"
   ]
  },
  {
   "cell_type": "code",
   "execution_count": 72,
   "metadata": {
    "slideshow": {
     "slide_type": "fragment"
    }
   },
   "outputs": [
    {
     "name": "stdout",
     "output_type": "stream",
     "text": [
      "<Report at https://liy.esrichina.com:6443/arcgis/admin/usagereports/Max%20response%20times%20for%20the%20last%207%20days>\n",
      "Max response times for the last 7 days\n",
      "<Report at https://liy.esrichina.com:6443/arcgis/admin/usagereports/Timed-out%20requests%20for%20the%20last%207%20days>\n",
      "Timed-out requests for the last 7 days\n",
      "<Report at https://liy.esrichina.com:6443/arcgis/admin/usagereports/Total%20requests%20for%20the%20last%207%20days>\n",
      "Total requests for the last 7 days\n"
     ]
    }
   ],
   "source": [
    "report = hosting_server.usage.list()\n",
    "for r in report:\n",
    "    print (r)\n",
    "    print(r.properties['reportname'])"
   ]
  },
  {
   "cell_type": "markdown",
   "metadata": {
    "slideshow": {
     "slide_type": "slide"
    }
   },
   "source": [
    "<center>\n",
    "<h3 class=\"title\"><b>最后七天的请求时间报告</b> </h3>\n",
    "</center>"
   ]
  },
  {
   "cell_type": "code",
   "execution_count": 45,
   "metadata": {
    "slideshow": {
     "slide_type": "skip"
    }
   },
   "outputs": [
    {
     "data": {
      "text/plain": [
       "<Report at https://sms.esrichina.com:6443/arcgis/admin/usagereports/Max%20response%20times%20for%20the%20last%207%20days>"
      ]
     },
     "execution_count": 45,
     "metadata": {},
     "output_type": "execute_result"
    }
   ],
   "source": [
    "maxreport = gisserver[1].usage.list()[0]\n",
    "maxreport"
   ]
  },
  {
   "cell_type": "code",
   "execution_count": 11,
   "metadata": {
    "slideshow": {
     "slide_type": "skip"
    }
   },
   "outputs": [],
   "source": [
    "from datetime import datetime\n",
    "import numpy as np\n",
    "import matplotlib.pyplot as plt\n",
    "import matplotlib.ticker as ticker\n",
    "%matplotlib inline"
   ]
  },
  {
   "cell_type": "code",
   "execution_count": 44,
   "metadata": {
    "slideshow": {
     "slide_type": "slide"
    }
   },
   "outputs": [
    {
     "data": {
      "image/png": "[encoded data removed]",
      "text/plain": [
       "<Figure size 432x288 with 1 Axes>"
      ]
     },
     "metadata": {},
     "output_type": "display_data"
    }
   ],
   "source": [
    "data = maxreport.query()\n",
    "#设置y轴为响应时间\n",
    "data_y = data['report']['report-data'][0][0]['data']\n",
    "# 设置x轴为日期\n",
    "data_x = [pd.to_datetime(datetime.fromtimestamp(d//1000)).strftime('%b-%d-%Y %H:%M:%S') \\\n",
    "          for d in data['report']['time-slices']]\n",
    "data_z= [pd.to_datetime(datetime.fromtimestamp(d//1000)).strftime('%b %d') \\\n",
    "          for d in data['report']['time-slices']]\n",
    "df = pd.DataFrame(list(zip(data_y, data_x,data_z)), columns=[\"count\", \"date\",\"datastr\"])\n",
    "q = df['count'].isnull() # change NaN values to 0\n",
    "df.loc[q, 'count'] = 0\n",
    "df.index = df['datastr']\n",
    "df['count'] = df['count'] \n",
    "ax = df.plot(kind='bar', x=df['date'])\n",
    "ticklabels = ['']*len(df.index)\n",
    "ticklabels[::4] = [item for item in df.index[::4]]\n",
    "ax.xaxis.set_major_formatter(ticker.FixedFormatter(ticklabels))\n",
    "plt.gcf().autofmt_xdate()\n",
    "plt.show()"
   ]
  },
  {
   "cell_type": "markdown",
   "metadata": {
    "slideshow": {
     "slide_type": "slide"
    }
   },
   "source": [
    "<center>\n",
    "<h3 class=\"title\"><b>创建快速报告</b> </h3>\n",
    "</center>"
   ]
  },
  {
   "cell_type": "markdown",
   "metadata": {
    "slideshow": {
     "slide_type": "fragment"
    }
   },
   "source": [
    "#### 支持多种时间跨度：\n",
    "1.LAST_DAY - 距现在时间的24小时<br/>\n",
    "2.LAST_WEEK - 距现在时间的7天<br/>\n",
    "3.LAST_MONTH - 距现在时间的31天<br/>\n",
    "4.LAST_YEAR - 距现在时间的365天"
   ]
  },
  {
   "cell_type": "markdown",
   "metadata": {
    "slideshow": {
     "slide_type": "fragment"
    }
   },
   "source": [
    "#### 快速报告的指标\n",
    "1.RequestCount - 收到的请求数量 <br/>\n",
    "2.RequestsFailed - 失败的请求数 <br/>\n",
    "3.RequestsTimedOut - 超时的请求数 <br/>\n",
    "4.RequestMaxResponseTime - 最大响应时间 <br/>\n",
    "5.RequestAvgResponseTime - 平均响应时间 <br/>\n",
    "6.ServiceActiveInstances - 针对指定服务以1分钟间隔抽样的活动（正在运行）的服务实例的最大数量"
   ]
  },
  {
   "cell_type": "markdown",
   "metadata": {
    "slideshow": {
     "slide_type": "slide"
    }
   },
   "source": [
    "#### <center>获取最近一个月的请求总数</center>"
   ]
  },
  {
   "cell_type": "code",
   "execution_count": 4,
   "metadata": {
    "slideshow": {
     "slide_type": "fragment"
    }
   },
   "outputs": [
    {
     "data": {
      "text/plain": [
       "dict_keys(['reportname', 'metadata', 'time-slices', 'report-data'])"
      ]
     },
     "execution_count": 4,
     "metadata": {},
     "output_type": "execute_result"
    }
   ],
   "source": [
    "data = gisserver[1].usage.quick_report(since=\"LAST_MONTH\", metrics=\"RequestCount\")\n",
    "data['report'].keys()"
   ]
  },
  {
   "cell_type": "code",
   "execution_count": 16,
   "metadata": {
    "scrolled": true,
    "slideshow": {
     "slide_type": "slide"
    }
   },
   "outputs": [
    {
     "data": {
      "image/png": "[encoded data removed]",
      "text/plain": [
       "<Figure size 432x288 with 1 Axes>"
      ]
     },
     "metadata": {},
     "output_type": "display_data"
    }
   ],
   "source": [
    "#设置请求时间为Y轴\n",
    "data_y = data['report']['report-data'][0][0]['data']\n",
    "#设置日期为X轴\n",
    "data_x = [pd.to_datetime(datetime.fromtimestamp(d//1000)).strftime('%b-%d-%Y %H:%M:%S') \\\n",
    "          for d in data['report']['time-slices']]\n",
    "#设置X轴显示的内容\n",
    "data_z = [pd.to_datetime(datetime.fromtimestamp(d//1000)).strftime('%b %d') \\\n",
    "          for d in data['report']['time-slices']]\n",
    "#创建panda DataFrame\n",
    "df = pd.DataFrame(list(zip(data_x, data_y,data_z)), columns=[\"date\", \"count\",\"datestr\"])\n",
    "q = df['count'].isnull() # change NaN values to 0\n",
    "df.loc[q, 'count'] = 0\n",
    "df.index = df['datestr']\n",
    "df['count'] = df['count'] \n",
    "#plot as a bar chart\n",
    "ax = df.plot(kind='bar', x=df['date'])\n",
    "ticklabels = ['']*len(df.index)\n",
    "ticklabels[::4] = [item for item in df.index[::4]]\n",
    "ax.xaxis.set_major_formatter(ticker.FixedFormatter(ticklabels))\n",
    "plt.gcf().autofmt_xdate()\n",
    "plt.show()"
   ]
  },
  {
   "cell_type": "markdown",
   "metadata": {
    "slideshow": {
     "slide_type": "slide"
    }
   },
   "source": [
    "###  <center>直接使用python进行管理</center>\n",
    "\n"
   ]
  },
  {
   "cell_type": "markdown",
   "metadata": {
    "slideshow": {
     "slide_type": "fragment"
    }
   },
   "source": [
    "<center><img src=\"images/demo.jpg\"></img></center>"
   ]
  },
  {
   "cell_type": "markdown",
   "metadata": {
    "slideshow": {
     "slide_type": "skip"
    }
   },
   "source": [
    "### <center>现有工具以及学习资料分享</center>"
   ]
  },
  {
   "cell_type": "code",
   "execution_count": null,
   "metadata": {},
   "outputs": [],
   "source": []
  }
 ],
 "metadata": {
  "celltoolbar": "Slideshow",
  "kernelspec": {
   "display_name": "Python 3",
   "language": "python",
   "name": "python3"
  },
  "language_info": {
   "codemirror_mode": {
    "name": "ipython",
    "version": 3
   },
   "file_extension": ".py",
   "mimetype": "text/x-python",
   "name": "python",
   "nbconvert_exporter": "python",
   "pygments_lexer": "ipython3",
   "version": "3.6.5"
  }
 },
 "nbformat": 4,
 "nbformat_minor": 2
}
